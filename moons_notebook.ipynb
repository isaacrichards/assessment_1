{
 "cells": [
  {
   "cell_type": "code",
   "execution_count": null,
   "id": "7c10d489",
   "metadata": {},
   "outputs": [],
   "source": [
    "#Include documentation for moons class\n",
    "from moons import Moons\n",
    "import seaborn as sns"
   ]
  },
  {
   "cell_type": "code",
   "execution_count": null,
   "id": "9cec5017",
   "metadata": {
    "scrolled": true
   },
   "outputs": [],
   "source": [
    "test = Moons()\n",
    "test.data\n",
    "sns.pairplot(test.data)\n",
    "#test.data.plot(\"period_days\",\"distance_km\", \"scatter\")\n",
    "\n",
    "#test.data.groupby(\"group\").mean()\n"
   ]
  },
  {
   "cell_type": "code",
   "execution_count": null,
   "id": "cdd08bc7",
   "metadata": {},
   "outputs": [],
   "source": []
  }
 ],
 "metadata": {
  "kernelspec": {
   "display_name": "Python 3 (ipykernel)",
   "language": "python",
   "name": "python3"
  },
  "language_info": {
   "codemirror_mode": {
    "name": "ipython",
    "version": 3
   },
   "file_extension": ".py",
   "mimetype": "text/x-python",
   "name": "python",
   "nbconvert_exporter": "python",
   "pygments_lexer": "ipython3",
   "version": "3.11.5"
  }
 },
 "nbformat": 4,
 "nbformat_minor": 5
}
