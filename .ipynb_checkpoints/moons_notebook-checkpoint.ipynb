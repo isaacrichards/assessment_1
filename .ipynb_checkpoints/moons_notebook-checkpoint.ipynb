{
 "cells": [
  {
   "cell_type": "code",
   "execution_count": 3,
   "id": "7c10d489",
   "metadata": {},
   "outputs": [],
   "source": [
    "#Include documentation for moons class\n",
    "from moons import Moons"
   ]
  },
  {
   "cell_type": "code",
   "execution_count": 4,
   "id": "9cec5017",
   "metadata": {},
   "outputs": [
    {
     "ename": "TypeError",
     "evalue": "'method' object is not subscriptable",
     "output_type": "error",
     "traceback": [
      "\u001b[1;31m---------------------------------------------------------------------------\u001b[0m",
      "\u001b[1;31mTypeError\u001b[0m                                 Traceback (most recent call last)",
      "Cell \u001b[1;32mIn[4], line 1\u001b[0m\n\u001b[1;32m----> 1\u001b[0m test \u001b[38;5;241m=\u001b[39m Moons()\n\u001b[0;32m      2\u001b[0m test\u001b[38;5;241m.\u001b[39mdata\u001b[38;5;241m.\u001b[39mhead()\n",
      "File \u001b[1;32m~\\Desktop\\Asessment_1_new\\moons.py:7\u001b[0m, in \u001b[0;36mMoons.__init__\u001b[1;34m(self)\u001b[0m\n\u001b[0;32m      5\u001b[0m \u001b[38;5;28;01mdef\u001b[39;00m \u001b[38;5;21m__init__\u001b[39m(\u001b[38;5;28mself\u001b[39m):\n\u001b[1;32m----> 7\u001b[0m     \u001b[38;5;28mself\u001b[39m\u001b[38;5;241m.\u001b[39mdata \u001b[38;5;241m=\u001b[39m \u001b[38;5;28mself\u001b[39m\u001b[38;5;241m.\u001b[39mdata()\u001b[38;5;66;03m#attribute the whole data base to Moons.data\u001b[39;00m\n\u001b[0;32m      8\u001b[0m     \u001b[38;5;28mself\u001b[39m\u001b[38;5;241m.\u001b[39mnames \u001b[38;5;241m=\u001b[39m \u001b[38;5;28mself\u001b[39m\u001b[38;5;241m.\u001b[39mnames()\n",
      "File \u001b[1;32m~\\Desktop\\Asessment_1_new\\moons.py:22\u001b[0m, in \u001b[0;36mMoons.data\u001b[1;34m(self)\u001b[0m\n\u001b[0;32m     18\u001b[0m query \u001b[38;5;241m=\u001b[39m \u001b[38;5;124m\"\u001b[39m\u001b[38;5;124mSELECT * FROM moons\u001b[39m\u001b[38;5;124m\"\u001b[39m\n\u001b[0;32m     20\u001b[0m selected_data \u001b[38;5;241m=\u001b[39m pd\u001b[38;5;241m.\u001b[39mread_sql(query, connectable)   \n\u001b[1;32m---> 22\u001b[0m selected_data\u001b[38;5;241m.\u001b[39mset_index[\u001b[38;5;124m\"\u001b[39m\u001b[38;5;124mmoon\u001b[39m\u001b[38;5;124m\"\u001b[39m]\n\u001b[0;32m     24\u001b[0m \u001b[38;5;28;01mreturn\u001b[39;00m selected_data\n",
      "\u001b[1;31mTypeError\u001b[0m: 'method' object is not subscriptable"
     ]
    }
   ],
   "source": [
    "test = Moons()\n",
    "test.data.head()"
   ]
  },
  {
   "cell_type": "code",
   "execution_count": null,
   "id": "cdd08bc7",
   "metadata": {},
   "outputs": [],
   "source": []
  }
 ],
 "metadata": {
  "kernelspec": {
   "display_name": "Python 3 (ipykernel)",
   "language": "python",
   "name": "python3"
  },
  "language_info": {
   "codemirror_mode": {
    "name": "ipython",
    "version": 3
   },
   "file_extension": ".py",
   "mimetype": "text/x-python",
   "name": "python",
   "nbconvert_exporter": "python",
   "pygments_lexer": "ipython3",
   "version": "3.11.5"
  }
 },
 "nbformat": 4,
 "nbformat_minor": 5
}
