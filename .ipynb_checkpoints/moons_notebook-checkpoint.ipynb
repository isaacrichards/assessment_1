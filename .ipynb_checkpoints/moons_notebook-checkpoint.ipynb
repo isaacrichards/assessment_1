{
 "cells": [
  {
   "cell_type": "markdown",
   "id": "46841c86",
   "metadata": {},
   "source": [
    "Task 1"
   ]
  },
  {
   "cell_type": "markdown",
   "id": "b54d59d5",
   "metadata": {},
   "source": [
    "The Moons.py file contains the Moons class, which is instantiated below. "
   ]
  },
  {
   "cell_type": "code",
   "execution_count": 1,
   "id": "7c10d489",
   "metadata": {},
   "outputs": [],
   "source": [
    "from moons import Moons\n",
    "\n",
    "test = Moons()"
   ]
  },
  {
   "cell_type": "markdown",
   "id": "8ee20599",
   "metadata": {},
   "source": [
    "The Moons class contains the following attributes (also accessible via dir() function): data, grouped_data, names"
   ]
  },
  {
   "cell_type": "code",
   "execution_count": 2,
   "id": "122060f2",
   "metadata": {
    "scrolled": false
   },
   "outputs": [
    {
     "data": {
      "text/plain": [
       "['__class__',\n",
       " '__delattr__',\n",
       " '__dict__',\n",
       " '__dir__',\n",
       " '__doc__',\n",
       " '__eq__',\n",
       " '__format__',\n",
       " '__ge__',\n",
       " '__getattribute__',\n",
       " '__getstate__',\n",
       " '__gt__',\n",
       " '__hash__',\n",
       " '__init__',\n",
       " '__init_subclass__',\n",
       " '__le__',\n",
       " '__lt__',\n",
       " '__module__',\n",
       " '__ne__',\n",
       " '__new__',\n",
       " '__reduce__',\n",
       " '__reduce_ex__',\n",
       " '__repr__',\n",
       " '__setattr__',\n",
       " '__sizeof__',\n",
       " '__str__',\n",
       " '__subclasshook__',\n",
       " '__weakref__',\n",
       " 'data',\n",
       " 'grouped_data',\n",
       " 'names',\n",
       " 'plot',\n",
       " 'train']"
      ]
     },
     "execution_count": 2,
     "metadata": {},
     "output_type": "execute_result"
    }
   ],
   "source": [
    "dir(test)"
   ]
  },
  {
   "cell_type": "markdown",
   "id": "769d5e0e",
   "metadata": {},
   "source": [
    "Within the .data attribute is a pandas DataFrame of the whole jupiter.db database."
   ]
  },
  {
   "cell_type": "code",
   "execution_count": 3,
   "id": "210d65b8",
   "metadata": {},
   "outputs": [
    {
     "data": {
      "text/plain": [
       "pandas.core.frame.DataFrame"
      ]
     },
     "execution_count": 3,
     "metadata": {},
     "output_type": "execute_result"
    }
   ],
   "source": [
    "type(test.data)"
   ]
  },
  {
   "cell_type": "markdown",
   "id": "3ad66e26",
   "metadata": {},
   "source": [
    "\n",
    ".names is a list of the names of each moon within the data base. Knowing the name, one can access the data for a specific \n",
    "moon. The 'moon' column has been set as the index.\n"
   ]
  },
  {
   "cell_type": "code",
   "execution_count": 4,
   "id": "532b5b4b",
   "metadata": {
    "scrolled": true
   },
   "outputs": [
    {
     "name": "stdout",
     "output_type": "stream",
     "text": [
      "There are: 56 moons in the data set\n",
      "\n",
      "Adrastea\n",
      "Aitne\n",
      "Amalthea\n",
      "Ananke\n",
      "Aoede\n",
      "Arche\n",
      "Autonoe\n",
      "Callirrhoe\n",
      "Callisto\n",
      "Carme\n",
      "Carpo\n",
      "Chaldene\n",
      "Cyllene\n",
      "Dia\n",
      "Eirene\n",
      "Elara\n",
      "Erinome\n",
      "Ersa\n",
      "Euanthe\n",
      "Eukelade\n",
      "Eupheme\n",
      "Euporie\n",
      "Europa\n",
      "Eurydome\n",
      "Ganymede\n",
      "Harpalyke\n",
      "Hegemone\n",
      "Helike\n",
      "Hermippe\n",
      "Herse\n",
      "Himalia\n",
      "Io\n",
      "Iocaste\n",
      "Isonoe\n",
      "Kale\n",
      "Kallichore\n",
      "Kalyke\n",
      "Kore\n",
      "Leda\n",
      "Lysithea\n",
      "Megaclite\n",
      "Metis\n",
      "Mneme\n",
      "Orthosie\n",
      "Pandia\n",
      "Pasiphae\n",
      "Pasithee\n",
      "Philophrosyne\n",
      "Praxidike\n",
      "Sinope\n",
      "Sponde\n",
      "Taygete\n",
      "Thebe\n",
      "Thelxinoe\n",
      "Themisto\n",
      "Thyone\n"
     ]
    },
    {
     "data": {
      "text/html": [
       "<div>\n",
       "<style scoped>\n",
       "    .dataframe tbody tr th:only-of-type {\n",
       "        vertical-align: middle;\n",
       "    }\n",
       "\n",
       "    .dataframe tbody tr th {\n",
       "        vertical-align: top;\n",
       "    }\n",
       "\n",
       "    .dataframe thead th {\n",
       "        text-align: right;\n",
       "    }\n",
       "</style>\n",
       "<table border=\"1\" class=\"dataframe\">\n",
       "  <thead>\n",
       "    <tr style=\"text-align: right;\">\n",
       "      <th></th>\n",
       "      <th>period_days</th>\n",
       "      <th>distance_km</th>\n",
       "      <th>radius_km</th>\n",
       "      <th>mag</th>\n",
       "      <th>mass_kg</th>\n",
       "      <th>group</th>\n",
       "      <th>ecc</th>\n",
       "      <th>inclination_deg</th>\n",
       "    </tr>\n",
       "    <tr>\n",
       "      <th>moon</th>\n",
       "      <th></th>\n",
       "      <th></th>\n",
       "      <th></th>\n",
       "      <th></th>\n",
       "      <th></th>\n",
       "      <th></th>\n",
       "      <th></th>\n",
       "      <th></th>\n",
       "    </tr>\n",
       "  </thead>\n",
       "  <tbody>\n",
       "    <tr>\n",
       "      <th>Adrastea</th>\n",
       "      <td>0.298</td>\n",
       "      <td>129000.0</td>\n",
       "      <td>8.2</td>\n",
       "      <td>NaN</td>\n",
       "      <td>NaN</td>\n",
       "      <td>Inner</td>\n",
       "      <td>0.0015</td>\n",
       "      <td>0.03</td>\n",
       "    </tr>\n",
       "  </tbody>\n",
       "</table>\n",
       "</div>"
      ],
      "text/plain": [
       "          period_days  distance_km  radius_km  mag  mass_kg  group     ecc  \\\n",
       "moon                                                                         \n",
       "Adrastea        0.298     129000.0        8.2  NaN      NaN  Inner  0.0015   \n",
       "\n",
       "          inclination_deg  \n",
       "moon                       \n",
       "Adrastea             0.03  "
      ]
     },
     "execution_count": 4,
     "metadata": {},
     "output_type": "execute_result"
    }
   ],
   "source": [
    "print(\"There are:\" ,len(test.names) , \"moons in the data set\\n\")\n",
    "\n",
    "for name in test.names:\n",
    "    print(name)\n",
    "\n",
    "test.data[test.data.index == \"Adrastea\"]"
   ]
  },
  {
   "cell_type": "markdown",
   "id": "bc68cba6",
   "metadata": {},
   "source": [
    "From the line above, the different columns of the table can be seen, distance_km is distance from respective moon and Jupiter. \n",
    "\n",
    "Within the Moons class, there is a .plot method which, unsurprisingly, takes two column names and plots them against one another. A scatter plot has been chosen for brevity as the line plots of this data are often more difficult to interpret."
   ]
  },
  {
   "cell_type": "code",
   "execution_count": 5,
   "id": "e8213c68",
   "metadata": {
    "scrolled": false
   },
   "outputs": [
    {
     "data": {
      "image/png": "[encoded data removed]",
      "text/plain": [
       "<Figure size 640x480 with 1 Axes>"
      ]
     },
     "metadata": {},
     "output_type": "display_data"
    }
   ],
   "source": [
    "test.plot(\"distance_km\", \"period_days\")"
   ]
  },
  {
   "cell_type": "markdown",
   "id": "82dda67f",
   "metadata": {},
   "source": [
    "A useful classifaction of the moons, which differ substantially in radius, orbital period, among other characteristics, is the grouping given in the 'group' column. \n",
    "\n",
    "As such, included in the Moons class is a grouped_data attribute, a list of DataFrames each containing group-sepcific data. \n",
    "\n",
    "Ananke, Carme, Galilean, Hamilia, Himalia, Inner, Pasiphae, other are the respective group names and are included in the list in that order. (corresponding to indexes 0 through to 7). One note is that the group column itself has been removed from each DataFrame. \n",
    "\n",
    "From this list, group-specific trends could be calculated, using standard pandas DataFrame methods. \n",
    "\n",
    "For example, the Carme group:"
   ]
  },
  {
   "cell_type": "code",
   "execution_count": 6,
   "id": "4af6150e",
   "metadata": {
    "scrolled": true
   },
   "outputs": [
    {
     "data": {
      "text/html": [
       "<div>\n",
       "<style scoped>\n",
       "    .dataframe tbody tr th:only-of-type {\n",
       "        vertical-align: middle;\n",
       "    }\n",
       "\n",
       "    .dataframe tbody tr th {\n",
       "        vertical-align: top;\n",
       "    }\n",
       "\n",
       "    .dataframe thead th {\n",
       "        text-align: right;\n",
       "    }\n",
       "</style>\n",
       "<table border=\"1\" class=\"dataframe\">\n",
       "  <thead>\n",
       "    <tr style=\"text-align: right;\">\n",
       "      <th></th>\n",
       "      <th>period_days</th>\n",
       "      <th>distance_km</th>\n",
       "      <th>radius_km</th>\n",
       "      <th>mag</th>\n",
       "      <th>mass_kg</th>\n",
       "      <th>group</th>\n",
       "      <th>ecc</th>\n",
       "      <th>inclination_deg</th>\n",
       "    </tr>\n",
       "    <tr>\n",
       "      <th>moon</th>\n",
       "      <th></th>\n",
       "      <th></th>\n",
       "      <th></th>\n",
       "      <th></th>\n",
       "      <th></th>\n",
       "      <th></th>\n",
       "      <th></th>\n",
       "      <th></th>\n",
       "    </tr>\n",
       "  </thead>\n",
       "  <tbody>\n",
       "    <tr>\n",
       "      <th>Callisto</th>\n",
       "      <td>16.689018</td>\n",
       "      <td>1882700.0</td>\n",
       "      <td>2410.3</td>\n",
       "      <td>5.65</td>\n",
       "      <td>1.075938e+23</td>\n",
       "      <td>Galilean</td>\n",
       "      <td>0.0074</td>\n",
       "      <td>2.02</td>\n",
       "    </tr>\n",
       "    <tr>\n",
       "      <th>Europa</th>\n",
       "      <td>3.551181</td>\n",
       "      <td>670900.0</td>\n",
       "      <td>1560.8</td>\n",
       "      <td>5.29</td>\n",
       "      <td>4.799844e+22</td>\n",
       "      <td>Galilean</td>\n",
       "      <td>0.0090</td>\n",
       "      <td>1.79</td>\n",
       "    </tr>\n",
       "    <tr>\n",
       "      <th>Ganymede</th>\n",
       "      <td>7.150000</td>\n",
       "      <td>1070400.0</td>\n",
       "      <td>2634.1</td>\n",
       "      <td>4.61</td>\n",
       "      <td>1.481900e+23</td>\n",
       "      <td>Galilean</td>\n",
       "      <td>0.0013</td>\n",
       "      <td>2.20</td>\n",
       "    </tr>\n",
       "    <tr>\n",
       "      <th>Io</th>\n",
       "      <td>1.750000</td>\n",
       "      <td>421700.0</td>\n",
       "      <td>1821.6</td>\n",
       "      <td>5.02</td>\n",
       "      <td>8.931938e+22</td>\n",
       "      <td>Galilean</td>\n",
       "      <td>0.0041</td>\n",
       "      <td>2.20</td>\n",
       "    </tr>\n",
       "  </tbody>\n",
       "</table>\n",
       "</div>"
      ],
      "text/plain": [
       "          period_days  distance_km  radius_km   mag       mass_kg     group  \\\n",
       "moon                                                                          \n",
       "Callisto    16.689018    1882700.0     2410.3  5.65  1.075938e+23  Galilean   \n",
       "Europa       3.551181     670900.0     1560.8  5.29  4.799844e+22  Galilean   \n",
       "Ganymede     7.150000    1070400.0     2634.1  4.61  1.481900e+23  Galilean   \n",
       "Io           1.750000     421700.0     1821.6  5.02  8.931938e+22  Galilean   \n",
       "\n",
       "             ecc  inclination_deg  \n",
       "moon                               \n",
       "Callisto  0.0074             2.02  \n",
       "Europa    0.0090             1.79  \n",
       "Ganymede  0.0013             2.20  \n",
       "Io        0.0041             2.20  "
      ]
     },
     "execution_count": 6,
     "metadata": {},
     "output_type": "execute_result"
    }
   ],
   "source": [
    "test.grouped_data[2]"
   ]
  },
  {
   "cell_type": "code",
   "execution_count": 7,
   "id": "6a675b1c",
   "metadata": {},
   "outputs": [
    {
     "data": {
      "text/plain": [
       "period_days         2.524296\n",
       "distance_km         1.116335\n",
       "radius_km          58.487456\n",
       "mag                 7.316407\n",
       "mass_kg                  NaN\n",
       "ecc                10.078760\n",
       "inclination_deg     1.875119\n",
       "dtype: float64"
      ]
     },
     "execution_count": 7,
     "metadata": {},
     "output_type": "execute_result"
    }
   ],
   "source": [
    "grouped_mean_errors = test.grouped_data[4].sem(numeric_only = True, skipna = True)\n",
    "grouped_means = test.grouped_data[4].mean(numeric_only = True)\n",
    "grouped_means\n",
    "\n",
    "grouped_percents = (grouped_mean_errors / grouped_means) * 100\n",
    "\n",
    "grouped_percents"
   ]
  },
  {
   "cell_type": "code",
   "execution_count": 8,
   "id": "ec2453b5",
   "metadata": {},
   "outputs": [
    {
     "data": {
      "text/plain": [
       "<Axes: xlabel='period_days', ylabel='distance_km'>"
      ]
     },
     "execution_count": 8,
     "metadata": {},
     "output_type": "execute_result"
    },
    {
     "data": {
      "image/png": "[encoded data removed]",
      "text/plain": [
       "<Figure size 640x480 with 1 Axes>"
      ]
     },
     "metadata": {},
     "output_type": "display_data"
    }
   ],
   "source": [
    "test.grouped_data[1].plot.scatter(\"period_days\", \"distance_km\")\n",
    "#test.grouped_data[2]"
   ]
  },
  {
   "cell_type": "code",
   "execution_count": null,
   "id": "3a063e15",
   "metadata": {
    "scrolled": true
   },
   "outputs": [],
   "source": []
  },
  {
   "cell_type": "code",
   "execution_count": null,
   "id": "8fa9a7c2",
   "metadata": {},
   "outputs": [],
   "source": []
  },
  {
   "cell_type": "code",
   "execution_count": null,
   "id": "71ed1c7b",
   "metadata": {},
   "outputs": [],
   "source": []
  },
  {
   "cell_type": "code",
   "execution_count": 9,
   "id": "ddbfc288",
   "metadata": {
    "scrolled": false
   },
   "outputs": [],
   "source": [
    "# import seaborn as sns\n",
    "\n",
    "# sns.pairplot(test.data, hue = 'group')"
   ]
  },
  {
   "cell_type": "markdown",
   "id": "e6404ba3",
   "metadata": {},
   "source": [
    "Task 2"
   ]
  },
  {
   "cell_type": "markdown",
   "id": "acaf5997",
   "metadata": {},
   "source": [
    "T^2\n",
    "4\n",
    "π\n",
    "2\n",
    "G\n",
    "M\n",
    "a\n",
    "3\n",
    ","
   ]
  },
  {
   "cell_type": "markdown",
   "id": "a6d538bb",
   "metadata": {},
   "source": [
    "a = distance_km\n",
    "\n",
    "T = period_days (in seconds)\n",
    "\n",
    "T^2  = (4(pi^2))/GM * a^3"
   ]
  },
  {
   "cell_type": "code",
   "execution_count": 10,
   "id": "4fb75151",
   "metadata": {},
   "outputs": [],
   "source": [
    "import numpy as np\n",
    "\n",
    "G = 6.67e-11\n",
    "\n",
    "moons_class = Moons()"
   ]
  },
  {
   "cell_type": "code",
   "execution_count": null,
   "id": "e9344d6d",
   "metadata": {},
   "outputs": [],
   "source": [
    "moons_class.data[\"distance_km\"]\n",
    "\n",
    "\n",
    "\n",
    "#training_dataframe = pd.DataFrame((self.data[\"distance_km\"]*1000)**3, (self.data[\"period_days\"]*86400)**2)\n",
    "\n",
    "training_x_variable = moons_class.data[\"distance_km\"]*1000**3\n",
    "training_y_variable = moons_class.data[\"period_days\"]*86400**2\n",
    "\n",
    "      \n",
    "x = moons_class.data[[\"distance_km\"]*1000**3]\n",
    "y = moons_class.data[\"period_days\"]*86400**2\n",
    "\n",
    "print(x)\n",
    "\n",
    "# from sklearn import linear_model\n",
    "\n",
    "# # create an instance of the model\n",
    "# model = linear_model.LinearRegression(fit_intercept=True)\n",
    "\n",
    "# # import train_test_split\n",
    "# from sklearn.model_selection import train_test_split\n",
    "\n",
    "# x_train, x_test, y_train, y_test = train_test_split(x, y, test_size=0.3, random_state=42)\n",
    "\n",
    "# model.fit(x_train, y_train)\n",
    "\n",
    "# # use the model to predict y-values of the testing set\n",
    "# pred = model.predict(x_test)"
   ]
  },
  {
   "cell_type": "code",
   "execution_count": null,
   "id": "7f16beeb",
   "metadata": {},
   "outputs": [],
   "source": []
  }
 ],
 "metadata": {
  "kernelspec": {
   "display_name": "Python 3 (ipykernel)",
   "language": "python",
   "name": "python3"
  },
  "language_info": {
   "codemirror_mode": {
    "name": "ipython",
    "version": 3
   },
   "file_extension": ".py",
   "mimetype": "text/x-python",
   "name": "python",
   "nbconvert_exporter": "python",
   "pygments_lexer": "ipython3",
   "version": "3.11.5"
  }
 },
 "nbformat": 4,
 "nbformat_minor": 5
}
